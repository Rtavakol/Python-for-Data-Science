{
 "cells": [
  {
   "cell_type": "markdown",
   "metadata": {},
   "source": [
    "# NumPy \n",
    "\n",
    "NumPy (or Numpy) is a Linear Algebra Library for Python, the reason it is so important for Data Science with Python is that almost all of the libraries in the PyData Ecosystem rely on NumPy as one of their main building blocks.\n",
    "\n",
    "Numpy is also incredibly fast, as it has bindings to C libraries. For more info on why you would want to use Arrays instead of lists, check out this great [StackOverflow post](http://stackoverflow.com/questions/993984/why-numpy-instead-of-python-lists).\n",
    "\n",
    "We will only learn the basics of NumPy, to get started we need to install it!"
   ]
  },
  {
   "cell_type": "markdown",
   "metadata": {},
   "source": [
    "## Installation Instructions\n",
    "\n",
    "**It is highly recommended you install Python using the Anaconda distribution to make sure all underlying dependencies (such as Linear Algebra libraries) all sync up with the use of a conda install. If you have Anaconda, install NumPy by going to your terminal or command prompt and typing:**\n",
    "    \n",
    "    conda install numpy\n",
    "    \n",
    "**If you do not have Anaconda and can not install it, please refer to [Numpy's official documentation on various installation instructions.](http://docs.scipy.org/doc/numpy-1.10.1/user/install.html)**"
   ]
  },
  {
   "cell_type": "markdown",
   "metadata": {},
   "source": [
    "## Using NumPy\n",
    "\n",
    "Once you've installed NumPy you can import it as a library:"
   ]
  },
  {
   "cell_type": "code",
   "execution_count": 1,
   "metadata": {
    "collapsed": true
   },
   "outputs": [],
   "source": [
    "import numpy as np"
   ]
  },
  {
   "cell_type": "markdown",
   "metadata": {},
   "source": [
    "Numpy has many built-in functions and capabilities. We won't cover them all but instead we will focus on some of the most important aspects of Numpy: vectors,arrays,matrices, and number generation. Let's start by discussing arrays.\n",
    "\n",
    "# Numpy Arrays\n",
    "\n",
    "NumPy arrays are the main way we will use Numpy throughout the course. Numpy arrays essentially come in two flavors: vectors and matrices. Vectors are strictly 1-d arrays and matrices are 2-d (but you should note a matrix can still have only one row or one column).\n",
    "\n",
    "Let's begin our introduction by exploring how to create NumPy arrays.\n",
    "\n",
    "## Creating NumPy Arrays\n",
    "\n",
    "### From a Python List\n",
    "\n",
    "We can create an array by directly converting a list or list of lists:"
   ]
  },
  {
   "cell_type": "code",
   "execution_count": 19,
   "metadata": {},
   "outputs": [
    {
     "data": {
      "text/plain": [
       "[1, 2, 3]"
      ]
     },
     "execution_count": 19,
     "metadata": {},
     "output_type": "execute_result"
    }
   ],
   "source": [
    "my_list = [1,2,3]\n",
    "my_list"
   ]
  },
  {
   "cell_type": "code",
   "execution_count": 16,
   "metadata": {},
   "outputs": [
    {
     "data": {
      "text/plain": [
       "array([1, 2, 3])"
      ]
     },
     "execution_count": 16,
     "metadata": {},
     "output_type": "execute_result"
    }
   ],
   "source": [
    "np.array(my_list)"
   ]
  },
  {
   "cell_type": "code",
   "execution_count": 20,
   "metadata": {},
   "outputs": [
    {
     "data": {
      "text/plain": [
       "[[1, 2, 3], [4, 5, 6], [7, 8, 9]]"
      ]
     },
     "execution_count": 20,
     "metadata": {},
     "output_type": "execute_result"
    }
   ],
   "source": [
    "my_matrix = [[1,2,3],[4,5,6],[7,8,9]]\n",
    "my_matrix"
   ]
  },
  {
   "cell_type": "code",
   "execution_count": 21,
   "metadata": {},
   "outputs": [
    {
     "data": {
      "text/plain": [
       "array([[1, 2, 3],\n",
       "       [4, 5, 6],\n",
       "       [7, 8, 9]])"
      ]
     },
     "execution_count": 21,
     "metadata": {},
     "output_type": "execute_result"
    }
   ],
   "source": [
    "np.array(my_matrix)"
   ]
  },
  {
   "cell_type": "markdown",
   "metadata": {},
   "source": [
    "## Built-in Methods\n",
    "\n",
    "There are lots of built-in ways to generate Arrays"
   ]
  },
  {
   "cell_type": "markdown",
   "metadata": {},
   "source": [
    "### arange\n",
    "\n",
    "Return evenly spaced values within a given interval."
   ]
  },
  {
   "cell_type": "code",
   "execution_count": 22,
   "metadata": {},
   "outputs": [
    {
     "data": {
      "text/plain": [
       "array([0, 1, 2, 3, 4, 5, 6, 7, 8, 9])"
      ]
     },
     "execution_count": 22,
     "metadata": {},
     "output_type": "execute_result"
    }
   ],
   "source": [
    "np.arange(0,10)"
   ]
  },
  {
   "cell_type": "code",
   "execution_count": 23,
   "metadata": {},
   "outputs": [
    {
     "data": {
      "text/plain": [
       "array([ 0,  2,  4,  6,  8, 10])"
      ]
     },
     "execution_count": 23,
     "metadata": {},
     "output_type": "execute_result"
    }
   ],
   "source": [
    "np.arange(0,11,2)"
   ]
  },
  {
   "cell_type": "markdown",
   "metadata": {},
   "source": [
    "### zeros and ones\n",
    "\n",
    "Generate arrays of zeros or ones"
   ]
  },
  {
   "cell_type": "code",
   "execution_count": 24,
   "metadata": {},
   "outputs": [
    {
     "data": {
      "text/plain": [
       "array([ 0.,  0.,  0.])"
      ]
     },
     "execution_count": 24,
     "metadata": {},
     "output_type": "execute_result"
    }
   ],
   "source": [
    "np.zeros(3)"
   ]
  },
  {
   "cell_type": "code",
   "execution_count": 26,
   "metadata": {},
   "outputs": [
    {
     "data": {
      "text/plain": [
       "array([[ 0.,  0.,  0.,  0.,  0.],\n",
       "       [ 0.,  0.,  0.,  0.,  0.],\n",
       "       [ 0.,  0.,  0.,  0.,  0.],\n",
       "       [ 0.,  0.,  0.,  0.,  0.],\n",
       "       [ 0.,  0.,  0.,  0.,  0.]])"
      ]
     },
     "execution_count": 26,
     "metadata": {},
     "output_type": "execute_result"
    }
   ],
   "source": [
    "np.zeros((5,5))"
   ]
  },
  {
   "cell_type": "code",
   "execution_count": 27,
   "metadata": {},
   "outputs": [
    {
     "data": {
      "text/plain": [
       "array([ 1.,  1.,  1.])"
      ]
     },
     "execution_count": 27,
     "metadata": {},
     "output_type": "execute_result"
    }
   ],
   "source": [
    "np.ones(3)"
   ]
  },
  {
   "cell_type": "code",
   "execution_count": 28,
   "metadata": {},
   "outputs": [
    {
     "data": {
      "text/plain": [
       "array([[ 1.,  1.,  1.],\n",
       "       [ 1.,  1.,  1.],\n",
       "       [ 1.,  1.,  1.]])"
      ]
     },
     "execution_count": 28,
     "metadata": {},
     "output_type": "execute_result"
    }
   ],
   "source": [
    "np.ones((3,3))"
   ]
  },
  {
   "cell_type": "markdown",
   "metadata": {},
   "source": [
    "### linspace\n",
    "Return evenly spaced numbers over a specified interval."
   ]
  },
  {
   "cell_type": "code",
   "execution_count": 29,
   "metadata": {},
   "outputs": [
    {
     "data": {
      "text/plain": [
       "array([  0.,   5.,  10.])"
      ]
     },
     "execution_count": 29,
     "metadata": {},
     "output_type": "execute_result"
    }
   ],
   "source": [
    "np.linspace(0,10,3)"
   ]
  },
  {
   "cell_type": "code",
   "execution_count": 31,
   "metadata": {},
   "outputs": [
    {
     "data": {
      "text/plain": [
       "array([  0.        ,   0.20408163,   0.40816327,   0.6122449 ,\n",
       "         0.81632653,   1.02040816,   1.2244898 ,   1.42857143,\n",
       "         1.63265306,   1.83673469,   2.04081633,   2.24489796,\n",
       "         2.44897959,   2.65306122,   2.85714286,   3.06122449,\n",
       "         3.26530612,   3.46938776,   3.67346939,   3.87755102,\n",
       "         4.08163265,   4.28571429,   4.48979592,   4.69387755,\n",
       "         4.89795918,   5.10204082,   5.30612245,   5.51020408,\n",
       "         5.71428571,   5.91836735,   6.12244898,   6.32653061,\n",
       "         6.53061224,   6.73469388,   6.93877551,   7.14285714,\n",
       "         7.34693878,   7.55102041,   7.75510204,   7.95918367,\n",
       "         8.16326531,   8.36734694,   8.57142857,   8.7755102 ,\n",
       "         8.97959184,   9.18367347,   9.3877551 ,   9.59183673,\n",
       "         9.79591837,  10.        ])"
      ]
     },
     "execution_count": 31,
     "metadata": {},
     "output_type": "execute_result"
    }
   ],
   "source": [
    "np.linspace(0,10,50)"
   ]
  },
  {
   "cell_type": "markdown",
   "metadata": {},
   "source": [
    "## eye\n",
    "\n",
    "Creates an identity matrix"
   ]
  },
  {
   "cell_type": "code",
   "execution_count": 37,
   "metadata": {},
   "outputs": [
    {
     "data": {
      "text/plain": [
       "array([[ 1.,  0.,  0.,  0.],\n",
       "       [ 0.,  1.,  0.,  0.],\n",
       "       [ 0.,  0.,  1.,  0.],\n",
       "       [ 0.,  0.,  0.,  1.]])"
      ]
     },
     "execution_count": 37,
     "metadata": {},
     "output_type": "execute_result"
    }
   ],
   "source": [
    "np.eye(4)"
   ]
  },
  {
   "cell_type": "markdown",
   "metadata": {},
   "source": [
    "## Random \n",
    "\n",
    "Numpy also has lots of ways to create random number arrays:\n",
    "\n",
    "### rand\n",
    "Create an array of the given shape and populate it with\n",
    "random samples from a uniform distribution\n",
    "over ``[0, 1)``."
   ]
  },
  {
   "cell_type": "code",
   "execution_count": 1,
   "metadata": {},
   "outputs": [
    {
     "data": {
      "text/plain": [
       "array([0.7203307 , 0.24307874])"
      ]
     },
     "execution_count": 1,
     "metadata": {},
     "output_type": "execute_result"
    }
   ],
   "source": [
    "import numpy as np\n",
    "np.random.rand(2)"
   ]
  },
  {
   "cell_type": "code",
   "execution_count": 2,
   "metadata": {},
   "outputs": [
    {
     "data": {
      "text/plain": [
       "array([[0.60057976, 0.62485986, 0.39028757, 0.79657197, 0.25798337],\n",
       "       [0.41899228, 0.59143778, 0.67587067, 0.28173951, 0.60852404],\n",
       "       [0.45235635, 0.92107233, 0.00382092, 0.50086442, 0.47271412],\n",
       "       [0.78037093, 0.75817616, 0.26034868, 0.70592635, 0.545458  ],\n",
       "       [0.94562833, 0.03527078, 0.66077458, 0.40459338, 0.9288533 ]])"
      ]
     },
     "execution_count": 2,
     "metadata": {},
     "output_type": "execute_result"
    }
   ],
   "source": [
    "np.random.rand(5,5)\n"
   ]
  },
  {
   "cell_type": "code",
   "execution_count": 11,
   "metadata": {},
   "outputs": [
    {
     "data": {
      "application/javascript": [
       "/* Put everything inside the global mpl namespace */\n",
       "window.mpl = {};\n",
       "\n",
       "\n",
       "mpl.get_websocket_type = function() {\n",
       "    if (typeof(WebSocket) !== 'undefined') {\n",
       "        return WebSocket;\n",
       "    } else if (typeof(MozWebSocket) !== 'undefined') {\n",
       "        return MozWebSocket;\n",
       "    } else {\n",
       "        alert('Your browser does not have WebSocket support.' +\n",
       "              'Please try Chrome, Safari or Firefox ≥ 6. ' +\n",
       "              'Firefox 4 and 5 are also supported but you ' +\n",
       "              'have to enable WebSockets in about:config.');\n",
       "    };\n",
       "}\n",
       "\n",
       "mpl.figure = function(figure_id, websocket, ondownload, parent_element) {\n",
       "    this.id = figure_id;\n",
       "\n",
       "    this.ws = websocket;\n",
       "\n",
       "    this.supports_binary = (this.ws.binaryType != undefined);\n",
       "\n",
       "    if (!this.supports_binary) {\n",
       "        var warnings = document.getElementById(\"mpl-warnings\");\n",
       "        if (warnings) {\n",
       "            warnings.style.display = 'block';\n",
       "            warnings.textContent = (\n",
       "                \"This browser does not support binary websocket messages. \" +\n",
       "                    \"Performance may be slow.\");\n",
       "        }\n",
       "    }\n",
       "\n",
       "    this.imageObj = new Image();\n",
       "\n",
       "    this.context = undefined;\n",
       "    this.message = undefined;\n",
       "    this.canvas = undefined;\n",
       "    this.rubberband_canvas = undefined;\n",
       "    this.rubberband_context = undefined;\n",
       "    this.format_dropdown = undefined;\n",
       "\n",
       "    this.image_mode = 'full';\n",
       "\n",
       "    this.root = $('<div/>');\n",
       "    this._root_extra_style(this.root)\n",
       "    this.root.attr('style', 'display: inline-block');\n",
       "\n",
       "    $(parent_element).append(this.root);\n",
       "\n",
       "    this._init_header(this);\n",
       "    this._init_canvas(this);\n",
       "    this._init_toolbar(this);\n",
       "\n",
       "    var fig = this;\n",
       "\n",
       "    this.waiting = false;\n",
       "\n",
       "    this.ws.onopen =  function () {\n",
       "            fig.send_message(\"supports_binary\", {value: fig.supports_binary});\n",
       "            fig.send_message(\"send_image_mode\", {});\n",
       "            if (mpl.ratio != 1) {\n",
       "                fig.send_message(\"set_dpi_ratio\", {'dpi_ratio': mpl.ratio});\n",
       "            }\n",
       "            fig.send_message(\"refresh\", {});\n",
       "        }\n",
       "\n",
       "    this.imageObj.onload = function() {\n",
       "            if (fig.image_mode == 'full') {\n",
       "                // Full images could contain transparency (where diff images\n",
       "                // almost always do), so we need to clear the canvas so that\n",
       "                // there is no ghosting.\n",
       "                fig.context.clearRect(0, 0, fig.canvas.width, fig.canvas.height);\n",
       "            }\n",
       "            fig.context.drawImage(fig.imageObj, 0, 0);\n",
       "        };\n",
       "\n",
       "    this.imageObj.onunload = function() {\n",
       "        fig.ws.close();\n",
       "    }\n",
       "\n",
       "    this.ws.onmessage = this._make_on_message_function(this);\n",
       "\n",
       "    this.ondownload = ondownload;\n",
       "}\n",
       "\n",
       "mpl.figure.prototype._init_header = function() {\n",
       "    var titlebar = $(\n",
       "        '<div class=\"ui-dialog-titlebar ui-widget-header ui-corner-all ' +\n",
       "        'ui-helper-clearfix\"/>');\n",
       "    var titletext = $(\n",
       "        '<div class=\"ui-dialog-title\" style=\"width: 100%; ' +\n",
       "        'text-align: center; padding: 3px;\"/>');\n",
       "    titlebar.append(titletext)\n",
       "    this.root.append(titlebar);\n",
       "    this.header = titletext[0];\n",
       "}\n",
       "\n",
       "\n",
       "\n",
       "mpl.figure.prototype._canvas_extra_style = function(canvas_div) {\n",
       "\n",
       "}\n",
       "\n",
       "\n",
       "mpl.figure.prototype._root_extra_style = function(canvas_div) {\n",
       "\n",
       "}\n",
       "\n",
       "mpl.figure.prototype._init_canvas = function() {\n",
       "    var fig = this;\n",
       "\n",
       "    var canvas_div = $('<div/>');\n",
       "\n",
       "    canvas_div.attr('style', 'position: relative; clear: both; outline: 0');\n",
       "\n",
       "    function canvas_keyboard_event(event) {\n",
       "        return fig.key_event(event, event['data']);\n",
       "    }\n",
       "\n",
       "    canvas_div.keydown('key_press', canvas_keyboard_event);\n",
       "    canvas_div.keyup('key_release', canvas_keyboard_event);\n",
       "    this.canvas_div = canvas_div\n",
       "    this._canvas_extra_style(canvas_div)\n",
       "    this.root.append(canvas_div);\n",
       "\n",
       "    var canvas = $('<canvas/>');\n",
       "    canvas.addClass('mpl-canvas');\n",
       "    canvas.attr('style', \"left: 0; top: 0; z-index: 0; outline: 0\")\n",
       "\n",
       "    this.canvas = canvas[0];\n",
       "    this.context = canvas[0].getContext(\"2d\");\n",
       "\n",
       "    var backingStore = this.context.backingStorePixelRatio ||\n",
       "\tthis.context.webkitBackingStorePixelRatio ||\n",
       "\tthis.context.mozBackingStorePixelRatio ||\n",
       "\tthis.context.msBackingStorePixelRatio ||\n",
       "\tthis.context.oBackingStorePixelRatio ||\n",
       "\tthis.context.backingStorePixelRatio || 1;\n",
       "\n",
       "    mpl.ratio = (window.devicePixelRatio || 1) / backingStore;\n",
       "\n",
       "    var rubberband = $('<canvas/>');\n",
       "    rubberband.attr('style', \"position: absolute; left: 0; top: 0; z-index: 1;\")\n",
       "\n",
       "    var pass_mouse_events = true;\n",
       "\n",
       "    canvas_div.resizable({\n",
       "        start: function(event, ui) {\n",
       "            pass_mouse_events = false;\n",
       "        },\n",
       "        resize: function(event, ui) {\n",
       "            fig.request_resize(ui.size.width, ui.size.height);\n",
       "        },\n",
       "        stop: function(event, ui) {\n",
       "            pass_mouse_events = true;\n",
       "            fig.request_resize(ui.size.width, ui.size.height);\n",
       "        },\n",
       "    });\n",
       "\n",
       "    function mouse_event_fn(event) {\n",
       "        if (pass_mouse_events)\n",
       "            return fig.mouse_event(event, event['data']);\n",
       "    }\n",
       "\n",
       "    rubberband.mousedown('button_press', mouse_event_fn);\n",
       "    rubberband.mouseup('button_release', mouse_event_fn);\n",
       "    // Throttle sequential mouse events to 1 every 20ms.\n",
       "    rubberband.mousemove('motion_notify', mouse_event_fn);\n",
       "\n",
       "    rubberband.mouseenter('figure_enter', mouse_event_fn);\n",
       "    rubberband.mouseleave('figure_leave', mouse_event_fn);\n",
       "\n",
       "    canvas_div.on(\"wheel\", function (event) {\n",
       "        event = event.originalEvent;\n",
       "        event['data'] = 'scroll'\n",
       "        if (event.deltaY < 0) {\n",
       "            event.step = 1;\n",
       "        } else {\n",
       "            event.step = -1;\n",
       "        }\n",
       "        mouse_event_fn(event);\n",
       "    });\n",
       "\n",
       "    canvas_div.append(canvas);\n",
       "    canvas_div.append(rubberband);\n",
       "\n",
       "    this.rubberband = rubberband;\n",
       "    this.rubberband_canvas = rubberband[0];\n",
       "    this.rubberband_context = rubberband[0].getContext(\"2d\");\n",
       "    this.rubberband_context.strokeStyle = \"#000000\";\n",
       "\n",
       "    this._resize_canvas = function(width, height) {\n",
       "        // Keep the size of the canvas, canvas container, and rubber band\n",
       "        // canvas in synch.\n",
       "        canvas_div.css('width', width)\n",
       "        canvas_div.css('height', height)\n",
       "\n",
       "        canvas.attr('width', width * mpl.ratio);\n",
       "        canvas.attr('height', height * mpl.ratio);\n",
       "        canvas.attr('style', 'width: ' + width + 'px; height: ' + height + 'px;');\n",
       "\n",
       "        rubberband.attr('width', width);\n",
       "        rubberband.attr('height', height);\n",
       "    }\n",
       "\n",
       "    // Set the figure to an initial 600x600px, this will subsequently be updated\n",
       "    // upon first draw.\n",
       "    this._resize_canvas(600, 600);\n",
       "\n",
       "    // Disable right mouse context menu.\n",
       "    $(this.rubberband_canvas).bind(\"contextmenu\",function(e){\n",
       "        return false;\n",
       "    });\n",
       "\n",
       "    function set_focus () {\n",
       "        canvas.focus();\n",
       "        canvas_div.focus();\n",
       "    }\n",
       "\n",
       "    window.setTimeout(set_focus, 100);\n",
       "}\n",
       "\n",
       "mpl.figure.prototype._init_toolbar = function() {\n",
       "    var fig = this;\n",
       "\n",
       "    var nav_element = $('<div/>')\n",
       "    nav_element.attr('style', 'width: 100%');\n",
       "    this.root.append(nav_element);\n",
       "\n",
       "    // Define a callback function for later on.\n",
       "    function toolbar_event(event) {\n",
       "        return fig.toolbar_button_onclick(event['data']);\n",
       "    }\n",
       "    function toolbar_mouse_event(event) {\n",
       "        return fig.toolbar_button_onmouseover(event['data']);\n",
       "    }\n",
       "\n",
       "    for(var toolbar_ind in mpl.toolbar_items) {\n",
       "        var name = mpl.toolbar_items[toolbar_ind][0];\n",
       "        var tooltip = mpl.toolbar_items[toolbar_ind][1];\n",
       "        var image = mpl.toolbar_items[toolbar_ind][2];\n",
       "        var method_name = mpl.toolbar_items[toolbar_ind][3];\n",
       "\n",
       "        if (!name) {\n",
       "            // put a spacer in here.\n",
       "            continue;\n",
       "        }\n",
       "        var button = $('<button/>');\n",
       "        button.addClass('ui-button ui-widget ui-state-default ui-corner-all ' +\n",
       "                        'ui-button-icon-only');\n",
       "        button.attr('role', 'button');\n",
       "        button.attr('aria-disabled', 'false');\n",
       "        button.click(method_name, toolbar_event);\n",
       "        button.mouseover(tooltip, toolbar_mouse_event);\n",
       "\n",
       "        var icon_img = $('<span/>');\n",
       "        icon_img.addClass('ui-button-icon-primary ui-icon');\n",
       "        icon_img.addClass(image);\n",
       "        icon_img.addClass('ui-corner-all');\n",
       "\n",
       "        var tooltip_span = $('<span/>');\n",
       "        tooltip_span.addClass('ui-button-text');\n",
       "        tooltip_span.html(tooltip);\n",
       "\n",
       "        button.append(icon_img);\n",
       "        button.append(tooltip_span);\n",
       "\n",
       "        nav_element.append(button);\n",
       "    }\n",
       "\n",
       "    var fmt_picker_span = $('<span/>');\n",
       "\n",
       "    var fmt_picker = $('<select/>');\n",
       "    fmt_picker.addClass('mpl-toolbar-option ui-widget ui-widget-content');\n",
       "    fmt_picker_span.append(fmt_picker);\n",
       "    nav_element.append(fmt_picker_span);\n",
       "    this.format_dropdown = fmt_picker[0];\n",
       "\n",
       "    for (var ind in mpl.extensions) {\n",
       "        var fmt = mpl.extensions[ind];\n",
       "        var option = $(\n",
       "            '<option/>', {selected: fmt === mpl.default_extension}).html(fmt);\n",
       "        fmt_picker.append(option)\n",
       "    }\n",
       "\n",
       "    // Add hover states to the ui-buttons\n",
       "    $( \".ui-button\" ).hover(\n",
       "        function() { $(this).addClass(\"ui-state-hover\");},\n",
       "        function() { $(this).removeClass(\"ui-state-hover\");}\n",
       "    );\n",
       "\n",
       "    var status_bar = $('<span class=\"mpl-message\"/>');\n",
       "    nav_element.append(status_bar);\n",
       "    this.message = status_bar[0];\n",
       "}\n",
       "\n",
       "mpl.figure.prototype.request_resize = function(x_pixels, y_pixels) {\n",
       "    // Request matplotlib to resize the figure. Matplotlib will then trigger a resize in the client,\n",
       "    // which will in turn request a refresh of the image.\n",
       "    this.send_message('resize', {'width': x_pixels, 'height': y_pixels});\n",
       "}\n",
       "\n",
       "mpl.figure.prototype.send_message = function(type, properties) {\n",
       "    properties['type'] = type;\n",
       "    properties['figure_id'] = this.id;\n",
       "    this.ws.send(JSON.stringify(properties));\n",
       "}\n",
       "\n",
       "mpl.figure.prototype.send_draw_message = function() {\n",
       "    if (!this.waiting) {\n",
       "        this.waiting = true;\n",
       "        this.ws.send(JSON.stringify({type: \"draw\", figure_id: this.id}));\n",
       "    }\n",
       "}\n",
       "\n",
       "\n",
       "mpl.figure.prototype.handle_save = function(fig, msg) {\n",
       "    var format_dropdown = fig.format_dropdown;\n",
       "    var format = format_dropdown.options[format_dropdown.selectedIndex].value;\n",
       "    fig.ondownload(fig, format);\n",
       "}\n",
       "\n",
       "\n",
       "mpl.figure.prototype.handle_resize = function(fig, msg) {\n",
       "    var size = msg['size'];\n",
       "    if (size[0] != fig.canvas.width || size[1] != fig.canvas.height) {\n",
       "        fig._resize_canvas(size[0], size[1]);\n",
       "        fig.send_message(\"refresh\", {});\n",
       "    };\n",
       "}\n",
       "\n",
       "mpl.figure.prototype.handle_rubberband = function(fig, msg) {\n",
       "    var x0 = msg['x0'] / mpl.ratio;\n",
       "    var y0 = (fig.canvas.height - msg['y0']) / mpl.ratio;\n",
       "    var x1 = msg['x1'] / mpl.ratio;\n",
       "    var y1 = (fig.canvas.height - msg['y1']) / mpl.ratio;\n",
       "    x0 = Math.floor(x0) + 0.5;\n",
       "    y0 = Math.floor(y0) + 0.5;\n",
       "    x1 = Math.floor(x1) + 0.5;\n",
       "    y1 = Math.floor(y1) + 0.5;\n",
       "    var min_x = Math.min(x0, x1);\n",
       "    var min_y = Math.min(y0, y1);\n",
       "    var width = Math.abs(x1 - x0);\n",
       "    var height = Math.abs(y1 - y0);\n",
       "\n",
       "    fig.rubberband_context.clearRect(\n",
       "        0, 0, fig.canvas.width, fig.canvas.height);\n",
       "\n",
       "    fig.rubberband_context.strokeRect(min_x, min_y, width, height);\n",
       "}\n",
       "\n",
       "mpl.figure.prototype.handle_figure_label = function(fig, msg) {\n",
       "    // Updates the figure title.\n",
       "    fig.header.textContent = msg['label'];\n",
       "}\n",
       "\n",
       "mpl.figure.prototype.handle_cursor = function(fig, msg) {\n",
       "    var cursor = msg['cursor'];\n",
       "    switch(cursor)\n",
       "    {\n",
       "    case 0:\n",
       "        cursor = 'pointer';\n",
       "        break;\n",
       "    case 1:\n",
       "        cursor = 'default';\n",
       "        break;\n",
       "    case 2:\n",
       "        cursor = 'crosshair';\n",
       "        break;\n",
       "    case 3:\n",
       "        cursor = 'move';\n",
       "        break;\n",
       "    }\n",
       "    fig.rubberband_canvas.style.cursor = cursor;\n",
       "}\n",
       "\n",
       "mpl.figure.prototype.handle_message = function(fig, msg) {\n",
       "    fig.message.textContent = msg['message'];\n",
       "}\n",
       "\n",
       "mpl.figure.prototype.handle_draw = function(fig, msg) {\n",
       "    // Request the server to send over a new figure.\n",
       "    fig.send_draw_message();\n",
       "}\n",
       "\n",
       "mpl.figure.prototype.handle_image_mode = function(fig, msg) {\n",
       "    fig.image_mode = msg['mode'];\n",
       "}\n",
       "\n",
       "mpl.figure.prototype.updated_canvas_event = function() {\n",
       "    // Called whenever the canvas gets updated.\n",
       "    this.send_message(\"ack\", {});\n",
       "}\n",
       "\n",
       "// A function to construct a web socket function for onmessage handling.\n",
       "// Called in the figure constructor.\n",
       "mpl.figure.prototype._make_on_message_function = function(fig) {\n",
       "    return function socket_on_message(evt) {\n",
       "        if (evt.data instanceof Blob) {\n",
       "            /* FIXME: We get \"Resource interpreted as Image but\n",
       "             * transferred with MIME type text/plain:\" errors on\n",
       "             * Chrome.  But how to set the MIME type?  It doesn't seem\n",
       "             * to be part of the websocket stream */\n",
       "            evt.data.type = \"image/png\";\n",
       "\n",
       "            /* Free the memory for the previous frames */\n",
       "            if (fig.imageObj.src) {\n",
       "                (window.URL || window.webkitURL).revokeObjectURL(\n",
       "                    fig.imageObj.src);\n",
       "            }\n",
       "\n",
       "            fig.imageObj.src = (window.URL || window.webkitURL).createObjectURL(\n",
       "                evt.data);\n",
       "            fig.updated_canvas_event();\n",
       "            fig.waiting = false;\n",
       "            return;\n",
       "        }\n",
       "        else if (typeof evt.data === 'string' && evt.data.slice(0, 21) == \"data:image/png;base64\") {\n",
       "            fig.imageObj.src = evt.data;\n",
       "            fig.updated_canvas_event();\n",
       "            fig.waiting = false;\n",
       "            return;\n",
       "        }\n",
       "\n",
       "        var msg = JSON.parse(evt.data);\n",
       "        var msg_type = msg['type'];\n",
       "\n",
       "        // Call the  \"handle_{type}\" callback, which takes\n",
       "        // the figure and JSON message as its only arguments.\n",
       "        try {\n",
       "            var callback = fig[\"handle_\" + msg_type];\n",
       "        } catch (e) {\n",
       "            console.log(\"No handler for the '\" + msg_type + \"' message type: \", msg);\n",
       "            return;\n",
       "        }\n",
       "\n",
       "        if (callback) {\n",
       "            try {\n",
       "                // console.log(\"Handling '\" + msg_type + \"' message: \", msg);\n",
       "                callback(fig, msg);\n",
       "            } catch (e) {\n",
       "                console.log(\"Exception inside the 'handler_\" + msg_type + \"' callback:\", e, e.stack, msg);\n",
       "            }\n",
       "        }\n",
       "    };\n",
       "}\n",
       "\n",
       "// from http://stackoverflow.com/questions/1114465/getting-mouse-location-in-canvas\n",
       "mpl.findpos = function(e) {\n",
       "    //this section is from http://www.quirksmode.org/js/events_properties.html\n",
       "    var targ;\n",
       "    if (!e)\n",
       "        e = window.event;\n",
       "    if (e.target)\n",
       "        targ = e.target;\n",
       "    else if (e.srcElement)\n",
       "        targ = e.srcElement;\n",
       "    if (targ.nodeType == 3) // defeat Safari bug\n",
       "        targ = targ.parentNode;\n",
       "\n",
       "    // jQuery normalizes the pageX and pageY\n",
       "    // pageX,Y are the mouse positions relative to the document\n",
       "    // offset() returns the position of the element relative to the document\n",
       "    var x = e.pageX - $(targ).offset().left;\n",
       "    var y = e.pageY - $(targ).offset().top;\n",
       "\n",
       "    return {\"x\": x, \"y\": y};\n",
       "};\n",
       "\n",
       "/*\n",
       " * return a copy of an object with only non-object keys\n",
       " * we need this to avoid circular references\n",
       " * http://stackoverflow.com/a/24161582/3208463\n",
       " */\n",
       "function simpleKeys (original) {\n",
       "  return Object.keys(original).reduce(function (obj, key) {\n",
       "    if (typeof original[key] !== 'object')\n",
       "        obj[key] = original[key]\n",
       "    return obj;\n",
       "  }, {});\n",
       "}\n",
       "\n",
       "mpl.figure.prototype.mouse_event = function(event, name) {\n",
       "    var canvas_pos = mpl.findpos(event)\n",
       "\n",
       "    if (name === 'button_press')\n",
       "    {\n",
       "        this.canvas.focus();\n",
       "        this.canvas_div.focus();\n",
       "    }\n",
       "\n",
       "    var x = canvas_pos.x * mpl.ratio;\n",
       "    var y = canvas_pos.y * mpl.ratio;\n",
       "\n",
       "    this.send_message(name, {x: x, y: y, button: event.button,\n",
       "                             step: event.step,\n",
       "                             guiEvent: simpleKeys(event)});\n",
       "\n",
       "    /* This prevents the web browser from automatically changing to\n",
       "     * the text insertion cursor when the button is pressed.  We want\n",
       "     * to control all of the cursor setting manually through the\n",
       "     * 'cursor' event from matplotlib */\n",
       "    event.preventDefault();\n",
       "    return false;\n",
       "}\n",
       "\n",
       "mpl.figure.prototype._key_event_extra = function(event, name) {\n",
       "    // Handle any extra behaviour associated with a key event\n",
       "}\n",
       "\n",
       "mpl.figure.prototype.key_event = function(event, name) {\n",
       "\n",
       "    // Prevent repeat events\n",
       "    if (name == 'key_press')\n",
       "    {\n",
       "        if (event.which === this._key)\n",
       "            return;\n",
       "        else\n",
       "            this._key = event.which;\n",
       "    }\n",
       "    if (name == 'key_release')\n",
       "        this._key = null;\n",
       "\n",
       "    var value = '';\n",
       "    if (event.ctrlKey && event.which != 17)\n",
       "        value += \"ctrl+\";\n",
       "    if (event.altKey && event.which != 18)\n",
       "        value += \"alt+\";\n",
       "    if (event.shiftKey && event.which != 16)\n",
       "        value += \"shift+\";\n",
       "\n",
       "    value += 'k';\n",
       "    value += event.which.toString();\n",
       "\n",
       "    this._key_event_extra(event, name);\n",
       "\n",
       "    this.send_message(name, {key: value,\n",
       "                             guiEvent: simpleKeys(event)});\n",
       "    return false;\n",
       "}\n",
       "\n",
       "mpl.figure.prototype.toolbar_button_onclick = function(name) {\n",
       "    if (name == 'download') {\n",
       "        this.handle_save(this, null);\n",
       "    } else {\n",
       "        this.send_message(\"toolbar_button\", {name: name});\n",
       "    }\n",
       "};\n",
       "\n",
       "mpl.figure.prototype.toolbar_button_onmouseover = function(tooltip) {\n",
       "    this.message.textContent = tooltip;\n",
       "};\n",
       "mpl.toolbar_items = [[\"Home\", \"Reset original view\", \"fa fa-home icon-home\", \"home\"], [\"Back\", \"Back to previous view\", \"fa fa-arrow-left icon-arrow-left\", \"back\"], [\"Forward\", \"Forward to next view\", \"fa fa-arrow-right icon-arrow-right\", \"forward\"], [\"\", \"\", \"\", \"\"], [\"Pan\", \"Pan axes with left mouse, zoom with right\", \"fa fa-arrows icon-move\", \"pan\"], [\"Zoom\", \"Zoom to rectangle\", \"fa fa-square-o icon-check-empty\", \"zoom\"], [\"\", \"\", \"\", \"\"], [\"Download\", \"Download plot\", \"fa fa-floppy-o icon-save\", \"download\"]];\n",
       "\n",
       "mpl.extensions = [\"eps\", \"jpeg\", \"pdf\", \"png\", \"ps\", \"raw\", \"svg\", \"tif\"];\n",
       "\n",
       "mpl.default_extension = \"png\";var comm_websocket_adapter = function(comm) {\n",
       "    // Create a \"websocket\"-like object which calls the given IPython comm\n",
       "    // object with the appropriate methods. Currently this is a non binary\n",
       "    // socket, so there is still some room for performance tuning.\n",
       "    var ws = {};\n",
       "\n",
       "    ws.close = function() {\n",
       "        comm.close()\n",
       "    };\n",
       "    ws.send = function(m) {\n",
       "        //console.log('sending', m);\n",
       "        comm.send(m);\n",
       "    };\n",
       "    // Register the callback with on_msg.\n",
       "    comm.on_msg(function(msg) {\n",
       "        //console.log('receiving', msg['content']['data'], msg);\n",
       "        // Pass the mpl event to the overridden (by mpl) onmessage function.\n",
       "        ws.onmessage(msg['content']['data'])\n",
       "    });\n",
       "    return ws;\n",
       "}\n",
       "\n",
       "mpl.mpl_figure_comm = function(comm, msg) {\n",
       "    // This is the function which gets called when the mpl process\n",
       "    // starts-up an IPython Comm through the \"matplotlib\" channel.\n",
       "\n",
       "    var id = msg.content.data.id;\n",
       "    // Get hold of the div created by the display call when the Comm\n",
       "    // socket was opened in Python.\n",
       "    var element = $(\"#\" + id);\n",
       "    var ws_proxy = comm_websocket_adapter(comm)\n",
       "\n",
       "    function ondownload(figure, format) {\n",
       "        window.open(figure.imageObj.src);\n",
       "    }\n",
       "\n",
       "    var fig = new mpl.figure(id, ws_proxy,\n",
       "                           ondownload,\n",
       "                           element.get(0));\n",
       "\n",
       "    // Call onopen now - mpl needs it, as it is assuming we've passed it a real\n",
       "    // web socket which is closed, not our websocket->open comm proxy.\n",
       "    ws_proxy.onopen();\n",
       "\n",
       "    fig.parent_element = element.get(0);\n",
       "    fig.cell_info = mpl.find_output_cell(\"<div id='\" + id + \"'></div>\");\n",
       "    if (!fig.cell_info) {\n",
       "        console.error(\"Failed to find cell for figure\", id, fig);\n",
       "        return;\n",
       "    }\n",
       "\n",
       "    var output_index = fig.cell_info[2]\n",
       "    var cell = fig.cell_info[0];\n",
       "\n",
       "};\n",
       "\n",
       "mpl.figure.prototype.handle_close = function(fig, msg) {\n",
       "    var width = fig.canvas.width/mpl.ratio\n",
       "    fig.root.unbind('remove')\n",
       "\n",
       "    // Update the output cell to use the data from the current canvas.\n",
       "    fig.push_to_output();\n",
       "    var dataURL = fig.canvas.toDataURL();\n",
       "    // Re-enable the keyboard manager in IPython - without this line, in FF,\n",
       "    // the notebook keyboard shortcuts fail.\n",
       "    IPython.keyboard_manager.enable()\n",
       "    $(fig.parent_element).html('<img src=\"' + dataURL + '\" width=\"' + width + '\">');\n",
       "    fig.close_ws(fig, msg);\n",
       "}\n",
       "\n",
       "mpl.figure.prototype.close_ws = function(fig, msg){\n",
       "    fig.send_message('closing', msg);\n",
       "    // fig.ws.close()\n",
       "}\n",
       "\n",
       "mpl.figure.prototype.push_to_output = function(remove_interactive) {\n",
       "    // Turn the data on the canvas into data in the output cell.\n",
       "    var width = this.canvas.width/mpl.ratio\n",
       "    var dataURL = this.canvas.toDataURL();\n",
       "    this.cell_info[1]['text/html'] = '<img src=\"' + dataURL + '\" width=\"' + width + '\">';\n",
       "}\n",
       "\n",
       "mpl.figure.prototype.updated_canvas_event = function() {\n",
       "    // Tell IPython that the notebook contents must change.\n",
       "    IPython.notebook.set_dirty(true);\n",
       "    this.send_message(\"ack\", {});\n",
       "    var fig = this;\n",
       "    // Wait a second, then push the new image to the DOM so\n",
       "    // that it is saved nicely (might be nice to debounce this).\n",
       "    setTimeout(function () { fig.push_to_output() }, 1000);\n",
       "}\n",
       "\n",
       "mpl.figure.prototype._init_toolbar = function() {\n",
       "    var fig = this;\n",
       "\n",
       "    var nav_element = $('<div/>')\n",
       "    nav_element.attr('style', 'width: 100%');\n",
       "    this.root.append(nav_element);\n",
       "\n",
       "    // Define a callback function for later on.\n",
       "    function toolbar_event(event) {\n",
       "        return fig.toolbar_button_onclick(event['data']);\n",
       "    }\n",
       "    function toolbar_mouse_event(event) {\n",
       "        return fig.toolbar_button_onmouseover(event['data']);\n",
       "    }\n",
       "\n",
       "    for(var toolbar_ind in mpl.toolbar_items){\n",
       "        var name = mpl.toolbar_items[toolbar_ind][0];\n",
       "        var tooltip = mpl.toolbar_items[toolbar_ind][1];\n",
       "        var image = mpl.toolbar_items[toolbar_ind][2];\n",
       "        var method_name = mpl.toolbar_items[toolbar_ind][3];\n",
       "\n",
       "        if (!name) { continue; };\n",
       "\n",
       "        var button = $('<button class=\"btn btn-default\" href=\"#\" title=\"' + name + '\"><i class=\"fa ' + image + ' fa-lg\"></i></button>');\n",
       "        button.click(method_name, toolbar_event);\n",
       "        button.mouseover(tooltip, toolbar_mouse_event);\n",
       "        nav_element.append(button);\n",
       "    }\n",
       "\n",
       "    // Add the status bar.\n",
       "    var status_bar = $('<span class=\"mpl-message\" style=\"text-align:right; float: right;\"/>');\n",
       "    nav_element.append(status_bar);\n",
       "    this.message = status_bar[0];\n",
       "\n",
       "    // Add the close button to the window.\n",
       "    var buttongrp = $('<div class=\"btn-group inline pull-right\"></div>');\n",
       "    var button = $('<button class=\"btn btn-mini btn-primary\" href=\"#\" title=\"Stop Interaction\"><i class=\"fa fa-power-off icon-remove icon-large\"></i></button>');\n",
       "    button.click(function (evt) { fig.handle_close(fig, {}); } );\n",
       "    button.mouseover('Stop Interaction', toolbar_mouse_event);\n",
       "    buttongrp.append(button);\n",
       "    var titlebar = this.root.find($('.ui-dialog-titlebar'));\n",
       "    titlebar.prepend(buttongrp);\n",
       "}\n",
       "\n",
       "mpl.figure.prototype._root_extra_style = function(el){\n",
       "    var fig = this\n",
       "    el.on(\"remove\", function(){\n",
       "\tfig.close_ws(fig, {});\n",
       "    });\n",
       "}\n",
       "\n",
       "mpl.figure.prototype._canvas_extra_style = function(el){\n",
       "    // this is important to make the div 'focusable\n",
       "    el.attr('tabindex', 0)\n",
       "    // reach out to IPython and tell the keyboard manager to turn it's self\n",
       "    // off when our div gets focus\n",
       "\n",
       "    // location in version 3\n",
       "    if (IPython.notebook.keyboard_manager) {\n",
       "        IPython.notebook.keyboard_manager.register_events(el);\n",
       "    }\n",
       "    else {\n",
       "        // location in version 2\n",
       "        IPython.keyboard_manager.register_events(el);\n",
       "    }\n",
       "\n",
       "}\n",
       "\n",
       "mpl.figure.prototype._key_event_extra = function(event, name) {\n",
       "    var manager = IPython.notebook.keyboard_manager;\n",
       "    if (!manager)\n",
       "        manager = IPython.keyboard_manager;\n",
       "\n",
       "    // Check for shift+enter\n",
       "    if (event.shiftKey && event.which == 13) {\n",
       "        this.canvas_div.blur();\n",
       "        event.shiftKey = false;\n",
       "        // Send a \"J\" for go to next cell\n",
       "        event.which = 74;\n",
       "        event.keyCode = 74;\n",
       "        manager.command_mode();\n",
       "        manager.handle_keydown(event);\n",
       "    }\n",
       "}\n",
       "\n",
       "mpl.figure.prototype.handle_save = function(fig, msg) {\n",
       "    fig.ondownload(fig, null);\n",
       "}\n",
       "\n",
       "\n",
       "mpl.find_output_cell = function(html_output) {\n",
       "    // Return the cell and output element which can be found *uniquely* in the notebook.\n",
       "    // Note - this is a bit hacky, but it is done because the \"notebook_saving.Notebook\"\n",
       "    // IPython event is triggered only after the cells have been serialised, which for\n",
       "    // our purposes (turning an active figure into a static one), is too late.\n",
       "    var cells = IPython.notebook.get_cells();\n",
       "    var ncells = cells.length;\n",
       "    for (var i=0; i<ncells; i++) {\n",
       "        var cell = cells[i];\n",
       "        if (cell.cell_type === 'code'){\n",
       "            for (var j=0; j<cell.output_area.outputs.length; j++) {\n",
       "                var data = cell.output_area.outputs[j];\n",
       "                if (data.data) {\n",
       "                    // IPython >= 3 moved mimebundle to data attribute of output\n",
       "                    data = data.data;\n",
       "                }\n",
       "                if (data['text/html'] == html_output) {\n",
       "                    return [cell, data, j];\n",
       "                }\n",
       "            }\n",
       "        }\n",
       "    }\n",
       "}\n",
       "\n",
       "// Register the function which deals with the matplotlib target/channel.\n",
       "// The kernel may be null if the page has been refreshed.\n",
       "if (IPython.notebook.kernel != null) {\n",
       "    IPython.notebook.kernel.comm_manager.register_target('matplotlib', mpl.mpl_figure_comm);\n",
       "}\n"
      ],
      "text/plain": [
       "<IPython.core.display.Javascript object>"
      ]
     },
     "metadata": {},
     "output_type": "display_data"
    },
    {
     "data": {
      "text/html": [
       "<img src=\"data:image/png;base64,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\" width=\"640\">"
      ],
      "text/plain": [
       "<IPython.core.display.HTML object>"
      ]
     },
     "metadata": {},
     "output_type": "display_data"
    }
   ],
   "source": [
    "import matplotlib.pyplot as plt\n",
    "%matplotlib notebook\n",
    "plt.hist(np.random.randn(10000) - 2)\n",
    "plt.show()"
   ]
  },
  {
   "cell_type": "markdown",
   "metadata": {},
   "source": [
    "### randn\n",
    "\n",
    "Return a sample (or samples) from the \"standard normal\" distribution. Unlike rand which is uniform:"
   ]
  },
  {
   "cell_type": "code",
   "execution_count": 48,
   "metadata": {},
   "outputs": [
    {
     "data": {
      "text/plain": [
       "array([-0.27954018,  0.90078368])"
      ]
     },
     "execution_count": 48,
     "metadata": {},
     "output_type": "execute_result"
    }
   ],
   "source": [
    "np.random.randn(2)"
   ]
  },
  {
   "cell_type": "code",
   "execution_count": 45,
   "metadata": {},
   "outputs": [
    {
     "data": {
      "text/plain": [
       "array([[ 0.70154515,  0.22441999,  1.33563186,  0.82872577, -0.28247509],\n",
       "       [ 0.64489788,  0.61815094, -0.81693168, -0.30102424, -0.29030574],\n",
       "       [ 0.8695976 ,  0.413755  ,  2.20047208,  0.17955692, -0.82159344],\n",
       "       [ 0.59264235,  1.29869894, -1.18870241,  0.11590888, -0.09181687],\n",
       "       [-0.96924265, -1.62888685, -2.05787102, -0.29705576,  0.68915542]])"
      ]
     },
     "execution_count": 45,
     "metadata": {},
     "output_type": "execute_result"
    }
   ],
   "source": [
    "np.random.randn(5,5)"
   ]
  },
  {
   "cell_type": "markdown",
   "metadata": {},
   "source": [
    "### randint\n",
    "Return random integers from `low` (inclusive) to `high` (exclusive)."
   ]
  },
  {
   "cell_type": "code",
   "execution_count": 50,
   "metadata": {},
   "outputs": [
    {
     "data": {
      "text/plain": [
       "44"
      ]
     },
     "execution_count": 50,
     "metadata": {},
     "output_type": "execute_result"
    }
   ],
   "source": [
    "np.random.randint(1,100)"
   ]
  },
  {
   "cell_type": "code",
   "execution_count": 51,
   "metadata": {},
   "outputs": [
    {
     "data": {
      "text/plain": [
       "array([13, 64, 27, 63, 46, 68, 92, 10, 58, 24])"
      ]
     },
     "execution_count": 51,
     "metadata": {},
     "output_type": "execute_result"
    }
   ],
   "source": [
    "np.random.randint(1,100,10)"
   ]
  },
  {
   "cell_type": "markdown",
   "metadata": {},
   "source": [
    "## Array Attributes and Methods\n",
    "\n",
    "Let's discuss some useful attributes and methods or an array:"
   ]
  },
  {
   "cell_type": "code",
   "execution_count": 55,
   "metadata": {
    "collapsed": true
   },
   "outputs": [],
   "source": [
    "arr = np.arange(25)\n",
    "ranarr = np.random.randint(0,50,10)"
   ]
  },
  {
   "cell_type": "code",
   "execution_count": 56,
   "metadata": {},
   "outputs": [
    {
     "data": {
      "text/plain": [
       "array([ 0,  1,  2,  3,  4,  5,  6,  7,  8,  9, 10, 11, 12, 13, 14, 15, 16,\n",
       "       17, 18, 19, 20, 21, 22, 23, 24])"
      ]
     },
     "execution_count": 56,
     "metadata": {},
     "output_type": "execute_result"
    }
   ],
   "source": [
    "arr"
   ]
  },
  {
   "cell_type": "code",
   "execution_count": 57,
   "metadata": {},
   "outputs": [
    {
     "data": {
      "text/plain": [
       "array([10, 12, 41, 17, 49,  2, 46,  3, 19, 39])"
      ]
     },
     "execution_count": 57,
     "metadata": {},
     "output_type": "execute_result"
    }
   ],
   "source": [
    "ranarr"
   ]
  },
  {
   "cell_type": "markdown",
   "metadata": {},
   "source": [
    "## Reshape\n",
    "Returns an array containing the same data with a new shape."
   ]
  },
  {
   "cell_type": "code",
   "execution_count": 54,
   "metadata": {},
   "outputs": [
    {
     "data": {
      "text/plain": [
       "array([[ 0,  1,  2,  3,  4],\n",
       "       [ 5,  6,  7,  8,  9],\n",
       "       [10, 11, 12, 13, 14],\n",
       "       [15, 16, 17, 18, 19],\n",
       "       [20, 21, 22, 23, 24]])"
      ]
     },
     "execution_count": 54,
     "metadata": {},
     "output_type": "execute_result"
    }
   ],
   "source": [
    "arr.reshape(5,5)"
   ]
  },
  {
   "cell_type": "markdown",
   "metadata": {},
   "source": [
    "### max,min,argmax,argmin\n",
    "\n",
    "These are useful methods for finding max or min values. Or to find their index locations using argmin or argmax"
   ]
  },
  {
   "cell_type": "code",
   "execution_count": 64,
   "metadata": {},
   "outputs": [
    {
     "data": {
      "text/plain": [
       "array([10, 12, 41, 17, 49,  2, 46,  3, 19, 39])"
      ]
     },
     "execution_count": 64,
     "metadata": {},
     "output_type": "execute_result"
    }
   ],
   "source": [
    "ranarr"
   ]
  },
  {
   "cell_type": "code",
   "execution_count": 61,
   "metadata": {},
   "outputs": [
    {
     "data": {
      "text/plain": [
       "49"
      ]
     },
     "execution_count": 61,
     "metadata": {},
     "output_type": "execute_result"
    }
   ],
   "source": [
    "ranarr.max()"
   ]
  },
  {
   "cell_type": "code",
   "execution_count": 62,
   "metadata": {},
   "outputs": [
    {
     "data": {
      "text/plain": [
       "4"
      ]
     },
     "execution_count": 62,
     "metadata": {},
     "output_type": "execute_result"
    }
   ],
   "source": [
    "ranarr.argmax()"
   ]
  },
  {
   "cell_type": "code",
   "execution_count": 63,
   "metadata": {},
   "outputs": [
    {
     "data": {
      "text/plain": [
       "2"
      ]
     },
     "execution_count": 63,
     "metadata": {},
     "output_type": "execute_result"
    }
   ],
   "source": [
    "ranarr.min()"
   ]
  },
  {
   "cell_type": "code",
   "execution_count": 60,
   "metadata": {},
   "outputs": [
    {
     "data": {
      "text/plain": [
       "5"
      ]
     },
     "execution_count": 60,
     "metadata": {},
     "output_type": "execute_result"
    }
   ],
   "source": [
    "ranarr.argmin()"
   ]
  },
  {
   "cell_type": "markdown",
   "metadata": {},
   "source": [
    "## Shape\n",
    "\n",
    "Shape is an attribute that arrays have (not a method):"
   ]
  },
  {
   "cell_type": "code",
   "execution_count": 65,
   "metadata": {},
   "outputs": [
    {
     "data": {
      "text/plain": [
       "(25,)"
      ]
     },
     "execution_count": 65,
     "metadata": {},
     "output_type": "execute_result"
    }
   ],
   "source": [
    "# Vector\n",
    "arr.shape"
   ]
  },
  {
   "cell_type": "code",
   "execution_count": 66,
   "metadata": {},
   "outputs": [
    {
     "data": {
      "text/plain": [
       "array([[ 0,  1,  2,  3,  4,  5,  6,  7,  8,  9, 10, 11, 12, 13, 14, 15, 16,\n",
       "        17, 18, 19, 20, 21, 22, 23, 24]])"
      ]
     },
     "execution_count": 66,
     "metadata": {},
     "output_type": "execute_result"
    }
   ],
   "source": [
    "# Notice the two sets of brackets\n",
    "arr.reshape(1,25)"
   ]
  },
  {
   "cell_type": "code",
   "execution_count": 69,
   "metadata": {},
   "outputs": [
    {
     "data": {
      "text/plain": [
       "(1, 25)"
      ]
     },
     "execution_count": 69,
     "metadata": {},
     "output_type": "execute_result"
    }
   ],
   "source": [
    "arr.reshape(1,25).shape"
   ]
  },
  {
   "cell_type": "code",
   "execution_count": 70,
   "metadata": {},
   "outputs": [
    {
     "data": {
      "text/plain": [
       "array([[ 0],\n",
       "       [ 1],\n",
       "       [ 2],\n",
       "       [ 3],\n",
       "       [ 4],\n",
       "       [ 5],\n",
       "       [ 6],\n",
       "       [ 7],\n",
       "       [ 8],\n",
       "       [ 9],\n",
       "       [10],\n",
       "       [11],\n",
       "       [12],\n",
       "       [13],\n",
       "       [14],\n",
       "       [15],\n",
       "       [16],\n",
       "       [17],\n",
       "       [18],\n",
       "       [19],\n",
       "       [20],\n",
       "       [21],\n",
       "       [22],\n",
       "       [23],\n",
       "       [24]])"
      ]
     },
     "execution_count": 70,
     "metadata": {},
     "output_type": "execute_result"
    }
   ],
   "source": [
    "arr.reshape(25,1)"
   ]
  },
  {
   "cell_type": "code",
   "execution_count": 76,
   "metadata": {},
   "outputs": [
    {
     "data": {
      "text/plain": [
       "(25, 1)"
      ]
     },
     "execution_count": 76,
     "metadata": {},
     "output_type": "execute_result"
    }
   ],
   "source": [
    "arr.reshape(25,1).shape"
   ]
  },
  {
   "cell_type": "markdown",
   "metadata": {},
   "source": [
    "### dtype\n",
    "\n",
    "You can also grab the data type of the object in the array:"
   ]
  },
  {
   "cell_type": "code",
   "execution_count": 75,
   "metadata": {},
   "outputs": [
    {
     "data": {
      "text/plain": [
       "dtype('int64')"
      ]
     },
     "execution_count": 75,
     "metadata": {},
     "output_type": "execute_result"
    }
   ],
   "source": [
    "arr.dtype"
   ]
  }
 ],
 "metadata": {
  "kernelspec": {
   "display_name": "Python 3",
   "language": "python",
   "name": "python3"
  },
  "language_info": {
   "codemirror_mode": {
    "name": "ipython",
    "version": 3
   },
   "file_extension": ".py",
   "mimetype": "text/x-python",
   "name": "python",
   "nbconvert_exporter": "python",
   "pygments_lexer": "ipython3",
   "version": "3.7.6"
  }
 },
 "nbformat": 4,
 "nbformat_minor": 1
}
